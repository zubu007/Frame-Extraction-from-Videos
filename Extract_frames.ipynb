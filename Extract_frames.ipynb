{
 "metadata": {
  "language_info": {
   "codemirror_mode": {
    "name": "ipython",
    "version": 3
   },
   "file_extension": ".py",
   "mimetype": "text/x-python",
   "name": "python",
   "nbconvert_exporter": "python",
   "pygments_lexer": "ipython3",
   "version": "3.7.3"
  },
  "orig_nbformat": 2,
  "kernelspec": {
   "name": "python373jvsc74a57bd09164a3399a70d355c381b62813f30880ed90ca5a6f321bf0d85375640bda7ee5",
   "display_name": "Python 3.7.3 64-bit"
  },
  "metadata": {
   "interpreter": {
    "hash": "9164a3399a70d355c381b62813f30880ed90ca5a6f321bf0d85375640bda7ee5"
   }
  }
 },
 "nbformat": 4,
 "nbformat_minor": 2,
 "cells": [
  {
   "cell_type": "code",
   "execution_count": 1,
   "metadata": {},
   "outputs": [],
   "source": [
    "import cv2\n",
    "import os"
   ]
  },
  {
   "cell_type": "code",
   "execution_count": 3,
   "metadata": {},
   "outputs": [
    {
     "output_type": "stream",
     "name": "stdout",
     "text": [
      "True\n"
     ]
    }
   ],
   "source": [
    "count = 0\n",
    "\n",
    "cap = cv2.VideoCapture('./videos/newfi20.avi')\n",
    "success, image = cap.read()\n",
    "\n",
    "#creating a folder if it doesn't exist\n",
    "if not os.path.exists('./frames'):\n",
    "    os.mkdir('./frames')\n",
    "print(success)\n",
    "while success:\n",
    "    success, image = cap.read()\n",
    "\n",
    "    if not success:\n",
    "        break\n",
    "    \n",
    "    cv2.imwrite('./frames/' + str(count) + '.jpg' , image)\n",
    "\n",
    "    if cv2.waitKey(10) == 27:\n",
    "        break\n",
    "    count += 1"
   ]
  },
  {
   "cell_type": "code",
   "execution_count": 4,
   "metadata": {},
   "outputs": [
    {
     "output_type": "stream",
     "name": "stdout",
     "text": [
      "True\n",
      "True\n",
      "True\n"
     ]
    }
   ],
   "source": [
    "count = 0\n",
    "for files in os.listdir('./videos/'):\n",
    "    cap = cv2.VideoCapture(os.path.join('./videos/', files))\n",
    "    success, image = cap.read()\n",
    "\n",
    "    #creating a folder if it doesn't exist\n",
    "    if not os.path.exists('./frames'):\n",
    "        os.mkdir('./frames')\n",
    "    print(success)\n",
    "    while success:\n",
    "        success, image = cap.read()\n",
    "\n",
    "        if not success:\n",
    "            break\n",
    "        \n",
    "        cv2.imwrite('./frames/' + str(count) + '.jpg' , image)\n",
    "\n",
    "        if cv2.waitKey(10) == 27:\n",
    "            break\n",
    "        count += 1"
   ]
  },
  {
   "cell_type": "code",
   "execution_count": null,
   "metadata": {},
   "outputs": [],
   "source": []
  }
 ]
}